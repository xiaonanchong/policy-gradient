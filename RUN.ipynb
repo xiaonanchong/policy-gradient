{
 "cells": [
  {
   "cell_type": "code",
   "execution_count": null,
   "metadata": {},
   "outputs": [],
   "source": [
    "!python3 train_pg.py gym_energyplus:EnergyPlus-v0 -n 10 -b 10 -e 1 -dna --exp_name t0 --ep_len 100\n",
    "!python3 plot.py data/t0_gym_energyplus:EnergyPlus-v0_11-07-2019_19-33-58 --value AverageReturn"
   ]
  }
 ],
 "metadata": {
  "kernelspec": {
   "display_name": "Python 3",
   "language": "python",
   "name": "python3"
  },
  "language_info": {
   "codemirror_mode": {
    "name": "ipython",
    "version": 3
   },
   "file_extension": ".py",
   "mimetype": "text/x-python",
   "name": "python",
   "nbconvert_exporter": "python",
   "pygments_lexer": "ipython3",
   "version": "3.5.2"
  }
 },
 "nbformat": 4,
 "nbformat_minor": 2
}
