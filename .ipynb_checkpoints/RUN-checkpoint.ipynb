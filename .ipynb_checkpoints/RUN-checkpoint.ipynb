{
 "cells": [
  {
   "cell_type": "code",
   "execution_count": null,
   "metadata": {},
   "outputs": [],
   "source": [
    "# test codes\n",
    "!python3 train_pg.py gym_energyplus:EnergyPlus-v0 -n 10 -b 10 -e 1 -dna --exp_name t0 --ep_len 100\n",
    "!python3 plot.py data/t0_gym_energyplus:EnergyPlus-v0_11-07-2019_19-33-58 --value AverageReturn"
   ]
  },
  {
   "cell_type": "code",
   "execution_count": null,
   "metadata": {},
   "outputs": [],
   "source": [
    "# 1day-basic-b100-i200\n",
    "!python3 train_pg.py gym_energyplus:EnergyPlus-v0 -n 200 -b 100 -e 3 -dna --exp_name 1day-basic-b100-i200 --ep_len 96\n",
    "\n",
    "# both training plot and simulation test plot are not good\n",
    "# training time > 4h"
   ]
  },
  {
   "cell_type": "code",
   "execution_count": null,
   "metadata": {},
   "outputs": [],
   "source": [
    "# 1day-basic-b1000-i200\n",
    "!!python3 train_pg.py gym_energyplus:EnergyPlus-v0 -n 200 -b 1000 -e 3 -dna --exp_name 1day-basic-b1000-i200 --ep_len 96"
   ]
  }
 ],
 "metadata": {
  "kernelspec": {
   "display_name": "Python 3",
   "language": "python",
   "name": "python3"
  },
  "language_info": {
   "codemirror_mode": {
    "name": "ipython",
    "version": 3
   },
   "file_extension": ".py",
   "mimetype": "text/x-python",
   "name": "python",
   "nbconvert_exporter": "python",
   "pygments_lexer": "ipython3",
   "version": "3.5.2"
  }
 },
 "nbformat": 4,
 "nbformat_minor": 2
}
